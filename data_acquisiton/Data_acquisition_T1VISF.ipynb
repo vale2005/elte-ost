{
  "nbformat": 4,
  "nbformat_minor": 0,
  "metadata": {
    "colab": {
      "name": "Data acquisition_T1VISF.ipynb",
      "provenance": [],
      "collapsed_sections": [],
      "toc_visible": true
    },
    "kernelspec": {
      "name": "python3",
      "display_name": "Python 3"
    }
  },
  "cells": [
    {
      "cell_type": "code",
      "metadata": {
        "id": "BD8K8UuaMg-U",
        "colab_type": "code",
        "outputId": "8ae1991c-6e68-439c-907c-b18aac9cee6c",
        "colab": {
          "base_uri": "https://localhost:8080/",
          "height": 508
        }
      },
      "source": [
        "!pip install https://github.com/matplotlib/mpl_finance/archive/master.zip\n",
        "!pip install mpl-finance\n",
        "import pandas as pd\n",
        "from pandas import Series\n",
        "import numpy as np\n",
        "import requests\n",
        "import csv\n",
        "import matplotlib.pyplot as plt\n",
        "import warnings\n",
        "from matplotlib import dates\n",
        "import matplotlib as mlp\n",
        "from mpl_finance import candlestick_ohlc\n",
        "%matplotlib inline"
      ],
      "execution_count": 0,
      "outputs": [
        {
          "output_type": "stream",
          "text": [
            "Collecting https://github.com/matplotlib/mpl_finance/archive/master.zip\n",
            "\u001b[?25l  Downloading https://github.com/matplotlib/mpl_finance/archive/master.zip\n",
            "\u001b[K     - 747kB 9.1MB/s\n",
            "\u001b[?25hRequirement already satisfied: matplotlib in /usr/local/lib/python3.6/dist-packages (from mpl-finance==0.10.0) (3.1.2)\n",
            "Requirement already satisfied: pyparsing!=2.0.4,!=2.1.2,!=2.1.6,>=2.0.1 in /usr/local/lib/python3.6/dist-packages (from matplotlib->mpl-finance==0.10.0) (2.4.6)\n",
            "Requirement already satisfied: python-dateutil>=2.1 in /usr/local/lib/python3.6/dist-packages (from matplotlib->mpl-finance==0.10.0) (2.6.1)\n",
            "Requirement already satisfied: kiwisolver>=1.0.1 in /usr/local/lib/python3.6/dist-packages (from matplotlib->mpl-finance==0.10.0) (1.1.0)\n",
            "Requirement already satisfied: cycler>=0.10 in /usr/local/lib/python3.6/dist-packages (from matplotlib->mpl-finance==0.10.0) (0.10.0)\n",
            "Requirement already satisfied: numpy>=1.11 in /usr/local/lib/python3.6/dist-packages (from matplotlib->mpl-finance==0.10.0) (1.17.5)\n",
            "Requirement already satisfied: six>=1.5 in /usr/local/lib/python3.6/dist-packages (from python-dateutil>=2.1->matplotlib->mpl-finance==0.10.0) (1.12.0)\n",
            "Requirement already satisfied: setuptools in /usr/local/lib/python3.6/dist-packages (from kiwisolver>=1.0.1->matplotlib->mpl-finance==0.10.0) (42.0.2)\n",
            "Building wheels for collected packages: mpl-finance\n",
            "  Building wheel for mpl-finance (setup.py) ... \u001b[?25l\u001b[?25hdone\n",
            "  Created wheel for mpl-finance: filename=mpl_finance-0.10.0-cp36-none-any.whl size=6903 sha256=2275455e3ef3eb56a69c84efc53514a1548c45eccc8a91997ad3aa78a4a816ac\n",
            "  Stored in directory: /tmp/pip-ephem-wheel-cache-x2dk3zj6/wheels/8f/bf/8a/6c858b2a3be945c7b2d658fbf6ab797b451d686cbee8aa2679\n",
            "Successfully built mpl-finance\n",
            "Installing collected packages: mpl-finance\n",
            "Successfully installed mpl-finance-0.10.0\n",
            "Requirement already satisfied: mpl-finance in /usr/local/lib/python3.6/dist-packages (0.10.0)\n",
            "Requirement already satisfied: matplotlib in /usr/local/lib/python3.6/dist-packages (from mpl-finance) (3.1.2)\n",
            "Requirement already satisfied: kiwisolver>=1.0.1 in /usr/local/lib/python3.6/dist-packages (from matplotlib->mpl-finance) (1.1.0)\n",
            "Requirement already satisfied: numpy>=1.11 in /usr/local/lib/python3.6/dist-packages (from matplotlib->mpl-finance) (1.17.5)\n",
            "Requirement already satisfied: cycler>=0.10 in /usr/local/lib/python3.6/dist-packages (from matplotlib->mpl-finance) (0.10.0)\n",
            "Requirement already satisfied: python-dateutil>=2.1 in /usr/local/lib/python3.6/dist-packages (from matplotlib->mpl-finance) (2.6.1)\n",
            "Requirement already satisfied: pyparsing!=2.0.4,!=2.1.2,!=2.1.6,>=2.0.1 in /usr/local/lib/python3.6/dist-packages (from matplotlib->mpl-finance) (2.4.6)\n",
            "Requirement already satisfied: setuptools in /usr/local/lib/python3.6/dist-packages (from kiwisolver>=1.0.1->matplotlib->mpl-finance) (42.0.2)\n",
            "Requirement already satisfied: six in /usr/local/lib/python3.6/dist-packages (from cycler>=0.10->matplotlib->mpl-finance) (1.12.0)\n"
          ],
          "name": "stdout"
        }
      ]
    },
    {
      "cell_type": "code",
      "metadata": {
        "id": "kEqfkbh8Mu2Z",
        "colab_type": "code",
        "colab": {}
      },
      "source": [
        "#Task 1: Choose one or more suitable web API(s)\n"
      ],
      "execution_count": 0,
      "outputs": []
    },
    {
      "cell_type": "markdown",
      "metadata": {
        "id": "Ioc5MqgpNzkt",
        "colab_type": "text"
      },
      "source": [
        "**API Selected:**\n",
        "\n",
        "Choosen API for data acquisition provided by https://www.quandl.com/\n",
        "Specifically, the data related to stock prices, dividends and splits API - https://www.quandl.com/databases/WIKIP\n",
        "\n",
        "Quandl API is freely available upon signing up.\n",
        "\n",
        "The API key required for the extration of data is f8zeBpAmA6dyyFdomf91\n",
        "\n"
      ]
    },
    {
      "cell_type": "code",
      "metadata": {
        "id": "1BQzUOU6OoXO",
        "colab_type": "code",
        "colab": {}
      },
      "source": [
        "#Retrieve data from the chosen API\n",
        "#Function to request data from the url provided using the 'companies' argument and the global variable 'apikey' \n",
        "def get_raw_data(companies):\n",
        "    url = \"https://www.quandl.com/api/v3/datatables/WIKI/PRICES.csv?ticker=\"+companies[\"Alphabet\"]+\"&&api_key=\"+apikey\n",
        "    get_response = requests.get(url) #Requests to get data from url\n",
        "    if get_response.status_code != 200: #Retrieval Error Response\n",
        "        print(\"Unable to retrive data\",get_response.status_code)\n",
        "    else:\n",
        "        print(\"Data Retrieved & Status Code:\",get_response.status_code)\n",
        "        data = csv.reader(get_response.text.strip().split('\\n')) #Splits the data on the basis of newline and stores the result\n",
        "        return data"
      ],
      "execution_count": 0,
      "outputs": []
    },
    {
      "cell_type": "code",
      "metadata": {
        "id": "4d2sXOYhPISd",
        "colab_type": "code",
        "colab": {}
      },
      "source": [
        "apikey = \"f8zeBpAmA6dyyFdomf91\"       #API KEY retrieved on Signup"
      ],
      "execution_count": 0,
      "outputs": []
    },
    {
      "cell_type": "code",
      "metadata": {
        "id": "nVwZrcEgO6Af",
        "colab_type": "code",
        "outputId": "69337146-7922-4ddf-b9cc-02ec154e9636",
        "colab": {
          "base_uri": "https://localhost:8080/",
          "height": 54
        }
      },
      "source": [
        "#Collected raw data, and Storing it in a File\n",
        "#Variables to get the Raw Data from the API and Store in the File\n",
        "companies = {\"Alphabet\":\"GOOG\",\"Microsoft\":\"MSFT\",\"Apple\":\"AAPL\"} #Dictionary of companies created for better understanding of code\n",
        "store_data = get_raw_data(companies) #Calling the function and storing the value(list) \n",
        "with open('Raw_data.csv','w',newline='')as rawfile: #Creating a CSV File \n",
        "            w = csv.writer(rawfile)\n",
        "            for rows in store_data: #Iterating over the retrieved List of CSV data\n",
        "                w.writerow(rows) #Writing each row in the Raw_data.csv file created\n",
        "            rawfile.close()\n",
        "print('Raw File Saved')"
      ],
      "execution_count": 0,
      "outputs": [
        {
          "output_type": "stream",
          "text": [
            "Data Retrieved & Status Code: 200\n",
            "Raw File Saved\n"
          ],
          "name": "stdout"
        }
      ]
    },
    {
      "cell_type": "code",
      "metadata": {
        "id": "DMSN4yqkPY1q",
        "colab_type": "code",
        "outputId": "982edd87-3c03-4f9a-8af5-6d3ee120c8f5",
        "colab": {
          "base_uri": "https://localhost:8080/",
          "height": 407
        }
      },
      "source": [
        "#Load and Represent the data using Pandas DataFrame.\n",
        "#Apply pre-processing steps to clean and filter the data.\n",
        "#Parsing Raw Data:\n",
        "\n",
        "#The raw data returns approx. 1000 lines of values, consisting stock data of a company Alphabet(GOOG)\n",
        "#Selection of appropriate columns is needed.\n",
        "collected_data = pd.read_csv('Raw_data.csv') #Loading the CSV File using Pandas DataFrame\n",
        "collected_data.head(1000) #Preview of the Dataset"
      ],
      "execution_count": 0,
      "outputs": [
        {
          "output_type": "execute_result",
          "data": {
            "text/html": [
              "<div>\n",
              "<style scoped>\n",
              "    .dataframe tbody tr th:only-of-type {\n",
              "        vertical-align: middle;\n",
              "    }\n",
              "\n",
              "    .dataframe tbody tr th {\n",
              "        vertical-align: top;\n",
              "    }\n",
              "\n",
              "    .dataframe thead th {\n",
              "        text-align: right;\n",
              "    }\n",
              "</style>\n",
              "<table border=\"1\" class=\"dataframe\">\n",
              "  <thead>\n",
              "    <tr style=\"text-align: right;\">\n",
              "      <th></th>\n",
              "      <th>ticker</th>\n",
              "      <th>date</th>\n",
              "      <th>open</th>\n",
              "      <th>high</th>\n",
              "      <th>low</th>\n",
              "      <th>close</th>\n",
              "      <th>volume</th>\n",
              "      <th>ex-dividend</th>\n",
              "      <th>split_ratio</th>\n",
              "      <th>adj_open</th>\n",
              "      <th>adj_high</th>\n",
              "      <th>adj_low</th>\n",
              "      <th>adj_close</th>\n",
              "      <th>adj_volume</th>\n",
              "    </tr>\n",
              "  </thead>\n",
              "  <tbody>\n",
              "    <tr>\n",
              "      <th>0</th>\n",
              "      <td>GOOG</td>\n",
              "      <td>2018-03-27</td>\n",
              "      <td>1063.00</td>\n",
              "      <td>1064.84</td>\n",
              "      <td>996.92</td>\n",
              "      <td>1005.10</td>\n",
              "      <td>3029471.0</td>\n",
              "      <td>0.0</td>\n",
              "      <td>1.0</td>\n",
              "      <td>1063.00</td>\n",
              "      <td>1064.84</td>\n",
              "      <td>996.92</td>\n",
              "      <td>1005.10</td>\n",
              "      <td>3029471.0</td>\n",
              "    </tr>\n",
              "    <tr>\n",
              "      <th>1</th>\n",
              "      <td>GOOG</td>\n",
              "      <td>2018-03-26</td>\n",
              "      <td>1046.00</td>\n",
              "      <td>1055.63</td>\n",
              "      <td>1008.40</td>\n",
              "      <td>1053.21</td>\n",
              "      <td>2558385.0</td>\n",
              "      <td>0.0</td>\n",
              "      <td>1.0</td>\n",
              "      <td>1046.00</td>\n",
              "      <td>1055.63</td>\n",
              "      <td>1008.40</td>\n",
              "      <td>1053.21</td>\n",
              "      <td>2558385.0</td>\n",
              "    </tr>\n",
              "    <tr>\n",
              "      <th>2</th>\n",
              "      <td>GOOG</td>\n",
              "      <td>2018-03-23</td>\n",
              "      <td>1047.03</td>\n",
              "      <td>1063.36</td>\n",
              "      <td>1021.22</td>\n",
              "      <td>1021.57</td>\n",
              "      <td>2113497.0</td>\n",
              "      <td>0.0</td>\n",
              "      <td>1.0</td>\n",
              "      <td>1047.03</td>\n",
              "      <td>1063.36</td>\n",
              "      <td>1021.22</td>\n",
              "      <td>1021.57</td>\n",
              "      <td>2113497.0</td>\n",
              "    </tr>\n",
              "    <tr>\n",
              "      <th>3</th>\n",
              "      <td>GOOG</td>\n",
              "      <td>2018-03-22</td>\n",
              "      <td>1081.88</td>\n",
              "      <td>1082.90</td>\n",
              "      <td>1045.91</td>\n",
              "      <td>1049.08</td>\n",
              "      <td>2580374.0</td>\n",
              "      <td>0.0</td>\n",
              "      <td>1.0</td>\n",
              "      <td>1081.88</td>\n",
              "      <td>1082.90</td>\n",
              "      <td>1045.91</td>\n",
              "      <td>1049.08</td>\n",
              "      <td>2580374.0</td>\n",
              "    </tr>\n",
              "    <tr>\n",
              "      <th>4</th>\n",
              "      <td>GOOG</td>\n",
              "      <td>2018-03-21</td>\n",
              "      <td>1092.74</td>\n",
              "      <td>1106.30</td>\n",
              "      <td>1085.15</td>\n",
              "      <td>1090.88</td>\n",
              "      <td>1640709.0</td>\n",
              "      <td>0.0</td>\n",
              "      <td>1.0</td>\n",
              "      <td>1092.74</td>\n",
              "      <td>1106.30</td>\n",
              "      <td>1085.15</td>\n",
              "      <td>1090.88</td>\n",
              "      <td>1640709.0</td>\n",
              "    </tr>\n",
              "    <tr>\n",
              "      <th>...</th>\n",
              "      <td>...</td>\n",
              "      <td>...</td>\n",
              "      <td>...</td>\n",
              "      <td>...</td>\n",
              "      <td>...</td>\n",
              "      <td>...</td>\n",
              "      <td>...</td>\n",
              "      <td>...</td>\n",
              "      <td>...</td>\n",
              "      <td>...</td>\n",
              "      <td>...</td>\n",
              "      <td>...</td>\n",
              "      <td>...</td>\n",
              "      <td>...</td>\n",
              "    </tr>\n",
              "    <tr>\n",
              "      <th>995</th>\n",
              "      <td>GOOG</td>\n",
              "      <td>2014-04-11</td>\n",
              "      <td>532.55</td>\n",
              "      <td>540.00</td>\n",
              "      <td>526.53</td>\n",
              "      <td>530.60</td>\n",
              "      <td>3914100.0</td>\n",
              "      <td>0.0</td>\n",
              "      <td>1.0</td>\n",
              "      <td>532.55</td>\n",
              "      <td>540.00</td>\n",
              "      <td>526.53</td>\n",
              "      <td>530.60</td>\n",
              "      <td>3914100.0</td>\n",
              "    </tr>\n",
              "    <tr>\n",
              "      <th>996</th>\n",
              "      <td>GOOG</td>\n",
              "      <td>2014-04-10</td>\n",
              "      <td>565.00</td>\n",
              "      <td>565.00</td>\n",
              "      <td>539.90</td>\n",
              "      <td>540.95</td>\n",
              "      <td>4025800.0</td>\n",
              "      <td>0.0</td>\n",
              "      <td>1.0</td>\n",
              "      <td>565.00</td>\n",
              "      <td>565.00</td>\n",
              "      <td>539.90</td>\n",
              "      <td>540.95</td>\n",
              "      <td>4025800.0</td>\n",
              "    </tr>\n",
              "    <tr>\n",
              "      <th>997</th>\n",
              "      <td>GOOG</td>\n",
              "      <td>2014-04-09</td>\n",
              "      <td>559.62</td>\n",
              "      <td>565.37</td>\n",
              "      <td>552.95</td>\n",
              "      <td>564.14</td>\n",
              "      <td>3321700.0</td>\n",
              "      <td>0.0</td>\n",
              "      <td>1.0</td>\n",
              "      <td>559.62</td>\n",
              "      <td>565.37</td>\n",
              "      <td>552.95</td>\n",
              "      <td>564.14</td>\n",
              "      <td>3321700.0</td>\n",
              "    </tr>\n",
              "    <tr>\n",
              "      <th>998</th>\n",
              "      <td>GOOG</td>\n",
              "      <td>2014-04-08</td>\n",
              "      <td>542.60</td>\n",
              "      <td>555.00</td>\n",
              "      <td>541.61</td>\n",
              "      <td>554.90</td>\n",
              "      <td>3142600.0</td>\n",
              "      <td>0.0</td>\n",
              "      <td>1.0</td>\n",
              "      <td>542.60</td>\n",
              "      <td>555.00</td>\n",
              "      <td>541.61</td>\n",
              "      <td>554.90</td>\n",
              "      <td>3142600.0</td>\n",
              "    </tr>\n",
              "    <tr>\n",
              "      <th>999</th>\n",
              "      <td>GOOG</td>\n",
              "      <td>2014-04-07</td>\n",
              "      <td>540.74</td>\n",
              "      <td>548.48</td>\n",
              "      <td>527.15</td>\n",
              "      <td>538.15</td>\n",
              "      <td>4389600.0</td>\n",
              "      <td>0.0</td>\n",
              "      <td>1.0</td>\n",
              "      <td>540.74</td>\n",
              "      <td>548.48</td>\n",
              "      <td>527.15</td>\n",
              "      <td>538.15</td>\n",
              "      <td>4389600.0</td>\n",
              "    </tr>\n",
              "  </tbody>\n",
              "</table>\n",
              "<p>1000 rows × 14 columns</p>\n",
              "</div>"
            ],
            "text/plain": [
              "    ticker        date     open  ...  adj_low  adj_close  adj_volume\n",
              "0     GOOG  2018-03-27  1063.00  ...   996.92    1005.10   3029471.0\n",
              "1     GOOG  2018-03-26  1046.00  ...  1008.40    1053.21   2558385.0\n",
              "2     GOOG  2018-03-23  1047.03  ...  1021.22    1021.57   2113497.0\n",
              "3     GOOG  2018-03-22  1081.88  ...  1045.91    1049.08   2580374.0\n",
              "4     GOOG  2018-03-21  1092.74  ...  1085.15    1090.88   1640709.0\n",
              "..     ...         ...      ...  ...      ...        ...         ...\n",
              "995   GOOG  2014-04-11   532.55  ...   526.53     530.60   3914100.0\n",
              "996   GOOG  2014-04-10   565.00  ...   539.90     540.95   4025800.0\n",
              "997   GOOG  2014-04-09   559.62  ...   552.95     564.14   3321700.0\n",
              "998   GOOG  2014-04-08   542.60  ...   541.61     554.90   3142600.0\n",
              "999   GOOG  2014-04-07   540.74  ...   527.15     538.15   4389600.0\n",
              "\n",
              "[1000 rows x 14 columns]"
            ]
          },
          "metadata": {
            "tags": []
          },
          "execution_count": 7
        }
      ]
    },
    {
      "cell_type": "code",
      "metadata": {
        "id": "EU4deesvPqfY",
        "colab_type": "code",
        "colab": {}
      },
      "source": [
        "#Using the Pandas Library for additional Data Modification"
      ],
      "execution_count": 0,
      "outputs": []
    },
    {
      "cell_type": "markdown",
      "metadata": {
        "id": "-C00NNSXQArk",
        "colab_type": "text"
      },
      "source": [
        "\n",
        "\n",
        "*   Above is the preview of the dataset (First Five Records).\n",
        "*   8 columns are chosen for analysis, namely ticker, date, open, high, low, close, volume and adj_low for each day\n",
        "\n"
      ]
    },
    {
      "cell_type": "code",
      "metadata": {
        "id": "VCpnc1ZPQHiD",
        "colab_type": "code",
        "outputId": "47819188-2018-43f5-a5ef-4fb8308ab886",
        "colab": {
          "base_uri": "https://localhost:8080/",
          "height": 198
        }
      },
      "source": [
        "#Converting date field to DateTime\n",
        "collected_data['date'] = pd.to_datetime(collected_data['date'])\n",
        "#Selecting on the desired columns for Analysis\n",
        "selected_data = collected_data.loc[:,['ticker','date','open','high','low','close','volume','adj_close']]\n",
        "#Extracting/Filtering data from the year 2016 and untill now (last date 16-March-2018)\n",
        "#Adding a column Year, extracting the year from Date column\n",
        "selected_data['Year'] = selected_data['date'].apply(lambda x:x.strftime('%Y'))\n",
        "#Renaming the column name ticker to Company\n",
        "selected_data = selected_data.rename(columns={'ticker':'Company'})\n",
        "#Previewing the First 5 Records\n",
        "selected_data.head()"
      ],
      "execution_count": 0,
      "outputs": [
        {
          "output_type": "execute_result",
          "data": {
            "text/html": [
              "<div>\n",
              "<style scoped>\n",
              "    .dataframe tbody tr th:only-of-type {\n",
              "        vertical-align: middle;\n",
              "    }\n",
              "\n",
              "    .dataframe tbody tr th {\n",
              "        vertical-align: top;\n",
              "    }\n",
              "\n",
              "    .dataframe thead th {\n",
              "        text-align: right;\n",
              "    }\n",
              "</style>\n",
              "<table border=\"1\" class=\"dataframe\">\n",
              "  <thead>\n",
              "    <tr style=\"text-align: right;\">\n",
              "      <th></th>\n",
              "      <th>Company</th>\n",
              "      <th>date</th>\n",
              "      <th>open</th>\n",
              "      <th>high</th>\n",
              "      <th>low</th>\n",
              "      <th>close</th>\n",
              "      <th>volume</th>\n",
              "      <th>adj_close</th>\n",
              "      <th>Year</th>\n",
              "    </tr>\n",
              "  </thead>\n",
              "  <tbody>\n",
              "    <tr>\n",
              "      <th>0</th>\n",
              "      <td>GOOG</td>\n",
              "      <td>2018-03-27</td>\n",
              "      <td>1063.00</td>\n",
              "      <td>1064.84</td>\n",
              "      <td>996.92</td>\n",
              "      <td>1005.10</td>\n",
              "      <td>3029471.0</td>\n",
              "      <td>1005.10</td>\n",
              "      <td>2018</td>\n",
              "    </tr>\n",
              "    <tr>\n",
              "      <th>1</th>\n",
              "      <td>GOOG</td>\n",
              "      <td>2018-03-26</td>\n",
              "      <td>1046.00</td>\n",
              "      <td>1055.63</td>\n",
              "      <td>1008.40</td>\n",
              "      <td>1053.21</td>\n",
              "      <td>2558385.0</td>\n",
              "      <td>1053.21</td>\n",
              "      <td>2018</td>\n",
              "    </tr>\n",
              "    <tr>\n",
              "      <th>2</th>\n",
              "      <td>GOOG</td>\n",
              "      <td>2018-03-23</td>\n",
              "      <td>1047.03</td>\n",
              "      <td>1063.36</td>\n",
              "      <td>1021.22</td>\n",
              "      <td>1021.57</td>\n",
              "      <td>2113497.0</td>\n",
              "      <td>1021.57</td>\n",
              "      <td>2018</td>\n",
              "    </tr>\n",
              "    <tr>\n",
              "      <th>3</th>\n",
              "      <td>GOOG</td>\n",
              "      <td>2018-03-22</td>\n",
              "      <td>1081.88</td>\n",
              "      <td>1082.90</td>\n",
              "      <td>1045.91</td>\n",
              "      <td>1049.08</td>\n",
              "      <td>2580374.0</td>\n",
              "      <td>1049.08</td>\n",
              "      <td>2018</td>\n",
              "    </tr>\n",
              "    <tr>\n",
              "      <th>4</th>\n",
              "      <td>GOOG</td>\n",
              "      <td>2018-03-21</td>\n",
              "      <td>1092.74</td>\n",
              "      <td>1106.30</td>\n",
              "      <td>1085.15</td>\n",
              "      <td>1090.88</td>\n",
              "      <td>1640709.0</td>\n",
              "      <td>1090.88</td>\n",
              "      <td>2018</td>\n",
              "    </tr>\n",
              "  </tbody>\n",
              "</table>\n",
              "</div>"
            ],
            "text/plain": [
              "  Company       date     open     high  ...    close     volume  adj_close  Year\n",
              "0    GOOG 2018-03-27  1063.00  1064.84  ...  1005.10  3029471.0    1005.10  2018\n",
              "1    GOOG 2018-03-26  1046.00  1055.63  ...  1053.21  2558385.0    1053.21  2018\n",
              "2    GOOG 2018-03-23  1047.03  1063.36  ...  1021.57  2113497.0    1021.57  2018\n",
              "3    GOOG 2018-03-22  1081.88  1082.90  ...  1049.08  2580374.0    1049.08  2018\n",
              "4    GOOG 2018-03-21  1092.74  1106.30  ...  1090.88  1640709.0    1090.88  2018\n",
              "\n",
              "[5 rows x 9 columns]"
            ]
          },
          "metadata": {
            "tags": []
          },
          "execution_count": 9
        }
      ]
    },
    {
      "cell_type": "code",
      "metadata": {
        "id": "iOESHioWQMDK",
        "colab_type": "code",
        "outputId": "1e525c5b-957a-4e92-a9c5-f6f95e776f62",
        "colab": {
          "base_uri": "https://localhost:8080/",
          "height": 199
        }
      },
      "source": [
        "#Working on Missing Data\n",
        "#Calculates the sum of all the null values in all the fields(columns)\n",
        "selected_data.isnull().sum()"
      ],
      "execution_count": 0,
      "outputs": [
        {
          "output_type": "execute_result",
          "data": {
            "text/plain": [
              "Company      0\n",
              "date         0\n",
              "open         0\n",
              "high         0\n",
              "low          0\n",
              "close        0\n",
              "volume       0\n",
              "adj_close    0\n",
              "Year         0\n",
              "dtype: int64"
            ]
          },
          "metadata": {
            "tags": []
          },
          "execution_count": 10
        }
      ]
    },
    {
      "cell_type": "code",
      "metadata": {
        "id": "x-M9nNwlQ23i",
        "colab_type": "code",
        "outputId": "0cef5b04-b4aa-4424-ee19-3da378417b86",
        "colab": {
          "base_uri": "https://localhost:8080/",
          "height": 90
        }
      },
      "source": [
        "#Further check if any of the numeric data is not string\n",
        "selected_data.dtypes.value_counts()"
      ],
      "execution_count": 0,
      "outputs": [
        {
          "output_type": "execute_result",
          "data": {
            "text/plain": [
              "float64           6\n",
              "object            2\n",
              "datetime64[ns]    1\n",
              "dtype: int64"
            ]
          },
          "metadata": {
            "tags": []
          },
          "execution_count": 11
        }
      ]
    },
    {
      "cell_type": "code",
      "metadata": {
        "id": "uM5BfG548RhJ",
        "colab_type": "code",
        "outputId": "c4edcf8b-298d-4013-bbeb-ef62bb4df43c",
        "colab": {
          "base_uri": "https://localhost:8080/",
          "height": 526
        }
      },
      "source": [
        "!apt install python-confluent-kafka"
      ],
      "execution_count": 0,
      "outputs": [
        {
          "output_type": "stream",
          "text": [
            "Reading package lists... Done\n",
            "Building dependency tree       \n",
            "Reading state information... Done\n",
            "The following package was automatically installed and is no longer required:\n",
            "  libnvidia-common-430\n",
            "Use 'apt autoremove' to remove it.\n",
            "The following additional packages will be installed:\n",
            "  librdkafka1\n",
            "Suggested packages:\n",
            "  python-avro python-requests\n",
            "The following NEW packages will be installed:\n",
            "  librdkafka1 python-confluent-kafka\n",
            "0 upgraded, 2 newly installed, 0 to remove and 7 not upgraded.\n",
            "Need to get 323 kB of archives.\n",
            "After this operation, 999 kB of additional disk space will be used.\n",
            "Get:1 http://archive.ubuntu.com/ubuntu bionic/universe amd64 librdkafka1 amd64 0.11.3-1build1 [293 kB]\n",
            "Get:2 http://archive.ubuntu.com/ubuntu bionic/universe amd64 python-confluent-kafka amd64 0.11.0-1 [30.2 kB]\n",
            "Fetched 323 kB in 1s (285 kB/s)\n",
            "Selecting previously unselected package librdkafka1:amd64.\n",
            "(Reading database ... 135004 files and directories currently installed.)\n",
            "Preparing to unpack .../librdkafka1_0.11.3-1build1_amd64.deb ...\n",
            "Unpacking librdkafka1:amd64 (0.11.3-1build1) ...\n",
            "Selecting previously unselected package python-confluent-kafka.\n",
            "Preparing to unpack .../python-confluent-kafka_0.11.0-1_amd64.deb ...\n",
            "Unpacking python-confluent-kafka (0.11.0-1) ...\n",
            "Setting up librdkafka1:amd64 (0.11.3-1build1) ...\n",
            "Setting up python-confluent-kafka (0.11.0-1) ...\n",
            "Processing triggers for libc-bin (2.27-3ubuntu1) ...\n"
          ],
          "name": "stdout"
        }
      ]
    },
    {
      "cell_type": "code",
      "metadata": {
        "id": "Y6pYUf_O9IhO",
        "colab_type": "code",
        "outputId": "f3d5be53-9d79-4183-a3db-f699bd6367ad",
        "colab": {
          "base_uri": "https://localhost:8080/",
          "height": 199
        }
      },
      "source": [
        "!pip install confluent-kafka\n",
        "!pip install avro-python3\n",
        "\n",
        "from confluent_kafka import avro\n",
        "from confluent_kafka.avro import AvroProducer\n",
        "import csv"
      ],
      "execution_count": 0,
      "outputs": [
        {
          "output_type": "stream",
          "text": [
            "Requirement already satisfied: confluent-kafka in /usr/local/lib/python3.6/dist-packages (1.3.0)\n",
            "Collecting avro-python3\n",
            "  Downloading https://files.pythonhosted.org/packages/76/b2/98a736a31213d3e281a62bcae5572cf297d2546bc429accf36f9ee1604bf/avro-python3-1.9.1.tar.gz\n",
            "Building wheels for collected packages: avro-python3\n",
            "  Building wheel for avro-python3 (setup.py) ... \u001b[?25l\u001b[?25hdone\n",
            "  Created wheel for avro-python3: filename=avro_python3-1.9.1-cp36-none-any.whl size=43199 sha256=d0b0ca77692ab775fa8839e25da51d0d2b366649bad89887d62d26fcca6a1122\n",
            "  Stored in directory: /root/.cache/pip/wheels/94/54/6f/a5df680fd3224aa45145686f3b1b02a878a90ea769fcf9daaf\n",
            "Successfully built avro-python3\n",
            "Installing collected packages: avro-python3\n",
            "Successfully installed avro-python3-1.9.1\n"
          ],
          "name": "stdout"
        }
      ]
    }
  ]
}