{
 "cells": [
  {
   "cell_type": "code",
   "execution_count": 56,
   "metadata": {},
   "outputs": [],
   "source": [
    "try:\n",
    "    spark.stop()\n",
    "except:\n",
    "    pass\n",
    "\n",
    "# Using findspark to find automatically the spark folder\n",
    "import findspark\n",
    "findspark.init()\n",
    "\n",
    "# import python libraries\n",
    "import random\n",
    "\n",
    "# initialize\n",
    "import pyspark\n",
    "from pyspark import SparkContext\n",
    "from pyspark.sql import SparkSession \n",
    "spark = SparkSession.builder.master(\"local[*]\").getOrCreate()\n"
   ]
  },
  {
   "cell_type": "code",
   "execution_count": 57,
   "metadata": {},
   "outputs": [],
   "source": [
    "df = spark.read.option('header','true')\\\n",
    ".option('inferSchema','true').csv(\"stock_data/Stocks/a.us.csv\")"
   ]
  },
  {
   "cell_type": "code",
   "execution_count": 58,
   "metadata": {},
   "outputs": [
    {
     "name": "stdout",
     "output_type": "stream",
     "text": [
      "['Date', 'Open', 'High', 'Low', 'Close', 'Volume', 'OpenInt']\n"
     ]
    }
   ],
   "source": [
    "print(df.columns)"
   ]
  },
  {
   "cell_type": "code",
   "execution_count": 59,
   "metadata": {},
   "outputs": [
    {
     "name": "stdout",
     "output_type": "stream",
     "text": [
      "root\n",
      " |-- Date: timestamp (nullable = true)\n",
      " |-- Open: double (nullable = true)\n",
      " |-- High: double (nullable = true)\n",
      " |-- Low: double (nullable = true)\n",
      " |-- Close: double (nullable = true)\n",
      " |-- Volume: integer (nullable = true)\n",
      " |-- OpenInt: integer (nullable = true)\n",
      "\n"
     ]
    }
   ],
   "source": [
    "df.printSchema()"
   ]
  },
  {
   "cell_type": "code",
   "execution_count": 60,
   "metadata": {},
   "outputs": [
    {
     "data": {
      "text/plain": [
       "[Row(Date=datetime.datetime(1999, 11, 18, 0, 0), Open=30.713, High=33.754, Low=27.002, Close=29.702, Volume=66277506, OpenInt=0),\n",
       " Row(Date=datetime.datetime(1999, 11, 19, 0, 0), Open=28.986, High=29.027, Low=26.872, Close=27.257, Volume=16142920, OpenInt=0),\n",
       " Row(Date=datetime.datetime(1999, 11, 22, 0, 0), Open=27.886, High=29.702, Low=27.044, Close=29.702, Volume=6970266, OpenInt=0),\n",
       " Row(Date=datetime.datetime(1999, 11, 23, 0, 0), Open=28.688, High=29.446, Low=27.002, Close=27.002, Volume=6332082, OpenInt=0),\n",
       " Row(Date=datetime.datetime(1999, 11, 24, 0, 0), Open=27.083, High=28.309, Low=27.002, Close=27.717, Volume=5132147, OpenInt=0)]"
      ]
     },
     "execution_count": 60,
     "metadata": {},
     "output_type": "execute_result"
    }
   ],
   "source": [
    "df.head(5)"
   ]
  },
  {
   "cell_type": "code",
   "execution_count": 61,
   "metadata": {},
   "outputs": [
    {
     "data": {
      "text/plain": [
       "(7, ['Date', 'Open', 'High', 'Low', 'Close', 'Volume', 'OpenInt'])"
      ]
     },
     "execution_count": 61,
     "metadata": {},
     "output_type": "execute_result"
    }
   ],
   "source": [
    "len(df.columns), df.columns"
   ]
  },
  {
   "cell_type": "code",
   "execution_count": 62,
   "metadata": {},
   "outputs": [
    {
     "name": "stdout",
     "output_type": "stream",
     "text": [
      "+-------+------------------+-----------------+------------------+------------------+------------------+-------+\n",
      "|summary|              Open|             High|               Low|             Close|            Volume|OpenInt|\n",
      "+-------+------------------+-----------------+------------------+------------------+------------------+-------+\n",
      "|  count|              4521|             4521|              4521|              4521|              4521|   4521|\n",
      "|   mean| 27.85629564255693|28.27044198186248| 27.45248637469587|27.871356978544448|  3993502.99513382|    0.0|\n",
      "| stddev|12.940880414056357|13.17599991326574|12.711735035627694|12.944388836423693|2665729.7355149505|    0.0|\n",
      "|    min|            7.2231|           7.5139|            7.0878|            7.3238|                 0|      0|\n",
      "|    max|             105.3|           109.37|            97.881|            107.32|          66277506|      0|\n",
      "+-------+------------------+-----------------+------------------+------------------+------------------+-------+\n",
      "\n"
     ]
    }
   ],
   "source": [
    "df.describe().show()"
   ]
  },
  {
   "cell_type": "code",
   "execution_count": 63,
   "metadata": {},
   "outputs": [
    {
     "name": "stdout",
     "output_type": "stream",
     "text": [
      "+--------+\n",
      "|  Volume|\n",
      "+--------+\n",
      "|66277506|\n",
      "|16142920|\n",
      "| 6970266|\n",
      "| 6332082|\n",
      "| 5132147|\n",
      "+--------+\n",
      "only showing top 5 rows\n",
      "\n"
     ]
    }
   ],
   "source": [
    "df.select('Volume').show(5)"
   ]
  },
  {
   "cell_type": "code",
   "execution_count": 64,
   "metadata": {},
   "outputs": [],
   "source": [
    "Volume = df.select('Volume')"
   ]
  },
  {
   "cell_type": "code",
   "execution_count": 65,
   "metadata": {},
   "outputs": [],
   "source": [
    "df1 = df.toPandas()"
   ]
  },
  {
   "cell_type": "code",
   "execution_count": 66,
   "metadata": {
    "scrolled": true
   },
   "outputs": [
    {
     "data": {
      "text/html": [
       "<div>\n",
       "<style scoped>\n",
       "    .dataframe tbody tr th:only-of-type {\n",
       "        vertical-align: middle;\n",
       "    }\n",
       "\n",
       "    .dataframe tbody tr th {\n",
       "        vertical-align: top;\n",
       "    }\n",
       "\n",
       "    .dataframe thead th {\n",
       "        text-align: right;\n",
       "    }\n",
       "</style>\n",
       "<table border=\"1\" class=\"dataframe\">\n",
       "  <thead>\n",
       "    <tr style=\"text-align: right;\">\n",
       "      <th></th>\n",
       "      <th>Date</th>\n",
       "      <th>Open</th>\n",
       "      <th>High</th>\n",
       "      <th>Low</th>\n",
       "      <th>Close</th>\n",
       "      <th>Volume</th>\n",
       "      <th>OpenInt</th>\n",
       "    </tr>\n",
       "  </thead>\n",
       "  <tbody>\n",
       "    <tr>\n",
       "      <th>0</th>\n",
       "      <td>1999-11-18</td>\n",
       "      <td>30.713</td>\n",
       "      <td>33.754</td>\n",
       "      <td>27.002</td>\n",
       "      <td>29.702</td>\n",
       "      <td>66277506</td>\n",
       "      <td>0</td>\n",
       "    </tr>\n",
       "    <tr>\n",
       "      <th>1</th>\n",
       "      <td>1999-11-19</td>\n",
       "      <td>28.986</td>\n",
       "      <td>29.027</td>\n",
       "      <td>26.872</td>\n",
       "      <td>27.257</td>\n",
       "      <td>16142920</td>\n",
       "      <td>0</td>\n",
       "    </tr>\n",
       "    <tr>\n",
       "      <th>2</th>\n",
       "      <td>1999-11-22</td>\n",
       "      <td>27.886</td>\n",
       "      <td>29.702</td>\n",
       "      <td>27.044</td>\n",
       "      <td>29.702</td>\n",
       "      <td>6970266</td>\n",
       "      <td>0</td>\n",
       "    </tr>\n",
       "    <tr>\n",
       "      <th>3</th>\n",
       "      <td>1999-11-23</td>\n",
       "      <td>28.688</td>\n",
       "      <td>29.446</td>\n",
       "      <td>27.002</td>\n",
       "      <td>27.002</td>\n",
       "      <td>6332082</td>\n",
       "      <td>0</td>\n",
       "    </tr>\n",
       "    <tr>\n",
       "      <th>4</th>\n",
       "      <td>1999-11-24</td>\n",
       "      <td>27.083</td>\n",
       "      <td>28.309</td>\n",
       "      <td>27.002</td>\n",
       "      <td>27.717</td>\n",
       "      <td>5132147</td>\n",
       "      <td>0</td>\n",
       "    </tr>\n",
       "    <tr>\n",
       "      <th>5</th>\n",
       "      <td>1999-11-26</td>\n",
       "      <td>27.594</td>\n",
       "      <td>28.012</td>\n",
       "      <td>27.509</td>\n",
       "      <td>27.807</td>\n",
       "      <td>1832635</td>\n",
       "      <td>0</td>\n",
       "    </tr>\n",
       "    <tr>\n",
       "      <th>6</th>\n",
       "      <td>1999-11-29</td>\n",
       "      <td>27.676</td>\n",
       "      <td>28.650</td>\n",
       "      <td>27.380</td>\n",
       "      <td>28.432</td>\n",
       "      <td>4317826</td>\n",
       "      <td>0</td>\n",
       "    </tr>\n",
       "    <tr>\n",
       "      <th>7</th>\n",
       "      <td>1999-11-30</td>\n",
       "      <td>28.350</td>\n",
       "      <td>28.986</td>\n",
       "      <td>27.634</td>\n",
       "      <td>28.480</td>\n",
       "      <td>4567146</td>\n",
       "      <td>0</td>\n",
       "    </tr>\n",
       "    <tr>\n",
       "      <th>8</th>\n",
       "      <td>1999-12-01</td>\n",
       "      <td>28.480</td>\n",
       "      <td>29.324</td>\n",
       "      <td>28.273</td>\n",
       "      <td>28.986</td>\n",
       "      <td>3133746</td>\n",
       "      <td>0</td>\n",
       "    </tr>\n",
       "    <tr>\n",
       "      <th>9</th>\n",
       "      <td>1999-12-02</td>\n",
       "      <td>29.532</td>\n",
       "      <td>30.375</td>\n",
       "      <td>29.155</td>\n",
       "      <td>29.786</td>\n",
       "      <td>3252997</td>\n",
       "      <td>0</td>\n",
       "    </tr>\n",
       "    <tr>\n",
       "      <th>10</th>\n",
       "      <td>1999-12-03</td>\n",
       "      <td>30.336</td>\n",
       "      <td>30.842</td>\n",
       "      <td>29.909</td>\n",
       "      <td>30.039</td>\n",
       "      <td>3223074</td>\n",
       "      <td>0</td>\n",
       "    </tr>\n",
       "    <tr>\n",
       "      <th>11</th>\n",
       "      <td>1999-12-06</td>\n",
       "      <td>30.547</td>\n",
       "      <td>31.348</td>\n",
       "      <td>30.505</td>\n",
       "      <td>30.883</td>\n",
       "      <td>2385046</td>\n",
       "      <td>0</td>\n",
       "    </tr>\n",
       "    <tr>\n",
       "      <th>12</th>\n",
       "      <td>1999-12-07</td>\n",
       "      <td>30.883</td>\n",
       "      <td>31.052</td>\n",
       "      <td>29.909</td>\n",
       "      <td>30.547</td>\n",
       "      <td>2348161</td>\n",
       "      <td>0</td>\n",
       "    </tr>\n",
       "    <tr>\n",
       "      <th>13</th>\n",
       "      <td>1999-12-08</td>\n",
       "      <td>30.547</td>\n",
       "      <td>30.795</td>\n",
       "      <td>30.249</td>\n",
       "      <td>30.505</td>\n",
       "      <td>2000481</td>\n",
       "      <td>0</td>\n",
       "    </tr>\n",
       "    <tr>\n",
       "      <th>14</th>\n",
       "      <td>1999-12-09</td>\n",
       "      <td>30.547</td>\n",
       "      <td>31.012</td>\n",
       "      <td>30.547</td>\n",
       "      <td>30.924</td>\n",
       "      <td>2150096</td>\n",
       "      <td>0</td>\n",
       "    </tr>\n",
       "    <tr>\n",
       "      <th>15</th>\n",
       "      <td>1999-12-10</td>\n",
       "      <td>30.842</td>\n",
       "      <td>31.012</td>\n",
       "      <td>30.209</td>\n",
       "      <td>30.209</td>\n",
       "      <td>1764043</td>\n",
       "      <td>0</td>\n",
       "    </tr>\n",
       "    <tr>\n",
       "      <th>16</th>\n",
       "      <td>1999-12-13</td>\n",
       "      <td>30.713</td>\n",
       "      <td>31.221</td>\n",
       "      <td>29.958</td>\n",
       "      <td>30.713</td>\n",
       "      <td>4260349</td>\n",
       "      <td>0</td>\n",
       "    </tr>\n",
       "    <tr>\n",
       "      <th>17</th>\n",
       "      <td>1999-12-14</td>\n",
       "      <td>30.635</td>\n",
       "      <td>30.635</td>\n",
       "      <td>28.391</td>\n",
       "      <td>29.027</td>\n",
       "      <td>2467856</td>\n",
       "      <td>0</td>\n",
       "    </tr>\n",
       "    <tr>\n",
       "      <th>18</th>\n",
       "      <td>1999-12-15</td>\n",
       "      <td>28.350</td>\n",
       "      <td>28.561</td>\n",
       "      <td>27.676</td>\n",
       "      <td>28.142</td>\n",
       "      <td>3091820</td>\n",
       "      <td>0</td>\n",
       "    </tr>\n",
       "    <tr>\n",
       "      <th>19</th>\n",
       "      <td>1999-12-16</td>\n",
       "      <td>28.350</td>\n",
       "      <td>31.896</td>\n",
       "      <td>28.350</td>\n",
       "      <td>31.896</td>\n",
       "      <td>2738063</td>\n",
       "      <td>0</td>\n",
       "    </tr>\n",
       "    <tr>\n",
       "      <th>20</th>\n",
       "      <td>1999-12-17</td>\n",
       "      <td>31.308</td>\n",
       "      <td>31.808</td>\n",
       "      <td>30.674</td>\n",
       "      <td>31.012</td>\n",
       "      <td>3929255</td>\n",
       "      <td>0</td>\n",
       "    </tr>\n",
       "    <tr>\n",
       "      <th>21</th>\n",
       "      <td>1999-12-20</td>\n",
       "      <td>31.221</td>\n",
       "      <td>31.687</td>\n",
       "      <td>31.134</td>\n",
       "      <td>31.646</td>\n",
       "      <td>1268225</td>\n",
       "      <td>0</td>\n",
       "    </tr>\n",
       "    <tr>\n",
       "      <th>22</th>\n",
       "      <td>1999-12-21</td>\n",
       "      <td>31.517</td>\n",
       "      <td>31.517</td>\n",
       "      <td>31.052</td>\n",
       "      <td>31.470</td>\n",
       "      <td>2394232</td>\n",
       "      <td>0</td>\n",
       "    </tr>\n",
       "    <tr>\n",
       "      <th>23</th>\n",
       "      <td>1999-12-22</td>\n",
       "      <td>31.470</td>\n",
       "      <td>32.104</td>\n",
       "      <td>31.261</td>\n",
       "      <td>32.104</td>\n",
       "      <td>2019439</td>\n",
       "      <td>0</td>\n",
       "    </tr>\n",
       "    <tr>\n",
       "      <th>24</th>\n",
       "      <td>1999-12-23</td>\n",
       "      <td>32.065</td>\n",
       "      <td>33.754</td>\n",
       "      <td>32.025</td>\n",
       "      <td>33.582</td>\n",
       "      <td>2288310</td>\n",
       "      <td>0</td>\n",
       "    </tr>\n",
       "    <tr>\n",
       "      <th>25</th>\n",
       "      <td>1999-12-27</td>\n",
       "      <td>33.712</td>\n",
       "      <td>35.906</td>\n",
       "      <td>33.455</td>\n",
       "      <td>35.648</td>\n",
       "      <td>2150692</td>\n",
       "      <td>0</td>\n",
       "    </tr>\n",
       "    <tr>\n",
       "      <th>26</th>\n",
       "      <td>1999-12-28</td>\n",
       "      <td>36.620</td>\n",
       "      <td>41.514</td>\n",
       "      <td>36.412</td>\n",
       "      <td>41.514</td>\n",
       "      <td>3772374</td>\n",
       "      <td>0</td>\n",
       "    </tr>\n",
       "    <tr>\n",
       "      <th>27</th>\n",
       "      <td>1999-12-29</td>\n",
       "      <td>42.528</td>\n",
       "      <td>53.369</td>\n",
       "      <td>42.487</td>\n",
       "      <td>48.602</td>\n",
       "      <td>11146026</td>\n",
       "      <td>0</td>\n",
       "    </tr>\n",
       "    <tr>\n",
       "      <th>28</th>\n",
       "      <td>1999-12-30</td>\n",
       "      <td>51.302</td>\n",
       "      <td>54.003</td>\n",
       "      <td>50.122</td>\n",
       "      <td>53.497</td>\n",
       "      <td>7069075</td>\n",
       "      <td>0</td>\n",
       "    </tr>\n",
       "    <tr>\n",
       "      <th>29</th>\n",
       "      <td>1999-12-31</td>\n",
       "      <td>53.666</td>\n",
       "      <td>53.966</td>\n",
       "      <td>51.473</td>\n",
       "      <td>52.188</td>\n",
       "      <td>2046399</td>\n",
       "      <td>0</td>\n",
       "    </tr>\n",
       "    <tr>\n",
       "      <th>...</th>\n",
       "      <td>...</td>\n",
       "      <td>...</td>\n",
       "      <td>...</td>\n",
       "      <td>...</td>\n",
       "      <td>...</td>\n",
       "      <td>...</td>\n",
       "      <td>...</td>\n",
       "    </tr>\n",
       "    <tr>\n",
       "      <th>4491</th>\n",
       "      <td>2017-10-02</td>\n",
       "      <td>64.290</td>\n",
       "      <td>65.070</td>\n",
       "      <td>64.290</td>\n",
       "      <td>64.870</td>\n",
       "      <td>1693854</td>\n",
       "      <td>0</td>\n",
       "    </tr>\n",
       "    <tr>\n",
       "      <th>4492</th>\n",
       "      <td>2017-10-03</td>\n",
       "      <td>65.060</td>\n",
       "      <td>65.780</td>\n",
       "      <td>65.060</td>\n",
       "      <td>65.150</td>\n",
       "      <td>1216981</td>\n",
       "      <td>0</td>\n",
       "    </tr>\n",
       "    <tr>\n",
       "      <th>4493</th>\n",
       "      <td>2017-10-04</td>\n",
       "      <td>65.150</td>\n",
       "      <td>65.870</td>\n",
       "      <td>65.150</td>\n",
       "      <td>65.830</td>\n",
       "      <td>743116</td>\n",
       "      <td>0</td>\n",
       "    </tr>\n",
       "    <tr>\n",
       "      <th>4494</th>\n",
       "      <td>2017-10-05</td>\n",
       "      <td>65.850</td>\n",
       "      <td>65.990</td>\n",
       "      <td>65.520</td>\n",
       "      <td>65.700</td>\n",
       "      <td>1974081</td>\n",
       "      <td>0</td>\n",
       "    </tr>\n",
       "    <tr>\n",
       "      <th>4495</th>\n",
       "      <td>2017-10-06</td>\n",
       "      <td>65.680</td>\n",
       "      <td>66.380</td>\n",
       "      <td>65.660</td>\n",
       "      <td>66.360</td>\n",
       "      <td>1252893</td>\n",
       "      <td>0</td>\n",
       "    </tr>\n",
       "    <tr>\n",
       "      <th>4496</th>\n",
       "      <td>2017-10-09</td>\n",
       "      <td>66.490</td>\n",
       "      <td>66.770</td>\n",
       "      <td>66.020</td>\n",
       "      <td>66.560</td>\n",
       "      <td>1542307</td>\n",
       "      <td>0</td>\n",
       "    </tr>\n",
       "    <tr>\n",
       "      <th>4497</th>\n",
       "      <td>2017-10-10</td>\n",
       "      <td>66.680</td>\n",
       "      <td>66.860</td>\n",
       "      <td>66.220</td>\n",
       "      <td>66.600</td>\n",
       "      <td>1143075</td>\n",
       "      <td>0</td>\n",
       "    </tr>\n",
       "    <tr>\n",
       "      <th>4498</th>\n",
       "      <td>2017-10-11</td>\n",
       "      <td>66.680</td>\n",
       "      <td>66.970</td>\n",
       "      <td>66.340</td>\n",
       "      <td>66.620</td>\n",
       "      <td>1794800</td>\n",
       "      <td>0</td>\n",
       "    </tr>\n",
       "    <tr>\n",
       "      <th>4499</th>\n",
       "      <td>2017-10-12</td>\n",
       "      <td>66.650</td>\n",
       "      <td>67.600</td>\n",
       "      <td>66.540</td>\n",
       "      <td>67.540</td>\n",
       "      <td>1470426</td>\n",
       "      <td>0</td>\n",
       "    </tr>\n",
       "    <tr>\n",
       "      <th>4500</th>\n",
       "      <td>2017-10-13</td>\n",
       "      <td>67.630</td>\n",
       "      <td>67.820</td>\n",
       "      <td>66.890</td>\n",
       "      <td>66.990</td>\n",
       "      <td>943164</td>\n",
       "      <td>0</td>\n",
       "    </tr>\n",
       "    <tr>\n",
       "      <th>4501</th>\n",
       "      <td>2017-10-16</td>\n",
       "      <td>67.200</td>\n",
       "      <td>67.370</td>\n",
       "      <td>66.770</td>\n",
       "      <td>66.910</td>\n",
       "      <td>1473459</td>\n",
       "      <td>0</td>\n",
       "    </tr>\n",
       "    <tr>\n",
       "      <th>4502</th>\n",
       "      <td>2017-10-17</td>\n",
       "      <td>66.680</td>\n",
       "      <td>66.680</td>\n",
       "      <td>65.990</td>\n",
       "      <td>66.120</td>\n",
       "      <td>1711833</td>\n",
       "      <td>0</td>\n",
       "    </tr>\n",
       "    <tr>\n",
       "      <th>4503</th>\n",
       "      <td>2017-10-18</td>\n",
       "      <td>66.380</td>\n",
       "      <td>66.585</td>\n",
       "      <td>66.070</td>\n",
       "      <td>66.440</td>\n",
       "      <td>1150468</td>\n",
       "      <td>0</td>\n",
       "    </tr>\n",
       "    <tr>\n",
       "      <th>4504</th>\n",
       "      <td>2017-10-19</td>\n",
       "      <td>66.440</td>\n",
       "      <td>66.975</td>\n",
       "      <td>66.060</td>\n",
       "      <td>66.880</td>\n",
       "      <td>1359119</td>\n",
       "      <td>0</td>\n",
       "    </tr>\n",
       "    <tr>\n",
       "      <th>4505</th>\n",
       "      <td>2017-10-20</td>\n",
       "      <td>67.200</td>\n",
       "      <td>67.530</td>\n",
       "      <td>67.070</td>\n",
       "      <td>67.250</td>\n",
       "      <td>1506112</td>\n",
       "      <td>0</td>\n",
       "    </tr>\n",
       "    <tr>\n",
       "      <th>4506</th>\n",
       "      <td>2017-10-23</td>\n",
       "      <td>67.450</td>\n",
       "      <td>67.680</td>\n",
       "      <td>66.930</td>\n",
       "      <td>67.020</td>\n",
       "      <td>1267570</td>\n",
       "      <td>0</td>\n",
       "    </tr>\n",
       "    <tr>\n",
       "      <th>4507</th>\n",
       "      <td>2017-10-24</td>\n",
       "      <td>67.310</td>\n",
       "      <td>67.550</td>\n",
       "      <td>66.880</td>\n",
       "      <td>67.320</td>\n",
       "      <td>1966916</td>\n",
       "      <td>0</td>\n",
       "    </tr>\n",
       "    <tr>\n",
       "      <th>4508</th>\n",
       "      <td>2017-10-25</td>\n",
       "      <td>67.900</td>\n",
       "      <td>68.520</td>\n",
       "      <td>67.030</td>\n",
       "      <td>67.390</td>\n",
       "      <td>1795014</td>\n",
       "      <td>0</td>\n",
       "    </tr>\n",
       "    <tr>\n",
       "      <th>4509</th>\n",
       "      <td>2017-10-26</td>\n",
       "      <td>67.530</td>\n",
       "      <td>67.830</td>\n",
       "      <td>67.200</td>\n",
       "      <td>67.710</td>\n",
       "      <td>1418152</td>\n",
       "      <td>0</td>\n",
       "    </tr>\n",
       "    <tr>\n",
       "      <th>4510</th>\n",
       "      <td>2017-10-27</td>\n",
       "      <td>67.800</td>\n",
       "      <td>68.010</td>\n",
       "      <td>67.410</td>\n",
       "      <td>67.970</td>\n",
       "      <td>1440996</td>\n",
       "      <td>0</td>\n",
       "    </tr>\n",
       "    <tr>\n",
       "      <th>4511</th>\n",
       "      <td>2017-10-30</td>\n",
       "      <td>67.900</td>\n",
       "      <td>67.930</td>\n",
       "      <td>67.100</td>\n",
       "      <td>67.490</td>\n",
       "      <td>834858</td>\n",
       "      <td>0</td>\n",
       "    </tr>\n",
       "    <tr>\n",
       "      <th>4512</th>\n",
       "      <td>2017-10-31</td>\n",
       "      <td>67.540</td>\n",
       "      <td>68.170</td>\n",
       "      <td>67.540</td>\n",
       "      <td>68.030</td>\n",
       "      <td>1614432</td>\n",
       "      <td>0</td>\n",
       "    </tr>\n",
       "    <tr>\n",
       "      <th>4513</th>\n",
       "      <td>2017-11-01</td>\n",
       "      <td>68.200</td>\n",
       "      <td>68.440</td>\n",
       "      <td>67.840</td>\n",
       "      <td>68.020</td>\n",
       "      <td>1357998</td>\n",
       "      <td>0</td>\n",
       "    </tr>\n",
       "    <tr>\n",
       "      <th>4514</th>\n",
       "      <td>2017-11-02</td>\n",
       "      <td>68.080</td>\n",
       "      <td>68.380</td>\n",
       "      <td>67.810</td>\n",
       "      <td>68.130</td>\n",
       "      <td>1856865</td>\n",
       "      <td>0</td>\n",
       "    </tr>\n",
       "    <tr>\n",
       "      <th>4515</th>\n",
       "      <td>2017-11-03</td>\n",
       "      <td>68.090</td>\n",
       "      <td>68.670</td>\n",
       "      <td>68.010</td>\n",
       "      <td>68.370</td>\n",
       "      <td>1072288</td>\n",
       "      <td>0</td>\n",
       "    </tr>\n",
       "    <tr>\n",
       "      <th>4516</th>\n",
       "      <td>2017-11-06</td>\n",
       "      <td>68.220</td>\n",
       "      <td>68.450</td>\n",
       "      <td>68.220</td>\n",
       "      <td>68.220</td>\n",
       "      <td>995731</td>\n",
       "      <td>0</td>\n",
       "    </tr>\n",
       "    <tr>\n",
       "      <th>4517</th>\n",
       "      <td>2017-11-07</td>\n",
       "      <td>68.320</td>\n",
       "      <td>68.640</td>\n",
       "      <td>68.040</td>\n",
       "      <td>68.250</td>\n",
       "      <td>966466</td>\n",
       "      <td>0</td>\n",
       "    </tr>\n",
       "    <tr>\n",
       "      <th>4518</th>\n",
       "      <td>2017-11-08</td>\n",
       "      <td>68.100</td>\n",
       "      <td>68.330</td>\n",
       "      <td>67.771</td>\n",
       "      <td>68.110</td>\n",
       "      <td>972616</td>\n",
       "      <td>0</td>\n",
       "    </tr>\n",
       "    <tr>\n",
       "      <th>4519</th>\n",
       "      <td>2017-11-09</td>\n",
       "      <td>67.920</td>\n",
       "      <td>67.980</td>\n",
       "      <td>66.910</td>\n",
       "      <td>67.470</td>\n",
       "      <td>1673083</td>\n",
       "      <td>0</td>\n",
       "    </tr>\n",
       "    <tr>\n",
       "      <th>4520</th>\n",
       "      <td>2017-11-10</td>\n",
       "      <td>67.350</td>\n",
       "      <td>67.580</td>\n",
       "      <td>66.700</td>\n",
       "      <td>66.810</td>\n",
       "      <td>1704549</td>\n",
       "      <td>0</td>\n",
       "    </tr>\n",
       "  </tbody>\n",
       "</table>\n",
       "<p>4521 rows × 7 columns</p>\n",
       "</div>"
      ],
      "text/plain": [
       "           Date    Open    High     Low   Close    Volume  OpenInt\n",
       "0    1999-11-18  30.713  33.754  27.002  29.702  66277506        0\n",
       "1    1999-11-19  28.986  29.027  26.872  27.257  16142920        0\n",
       "2    1999-11-22  27.886  29.702  27.044  29.702   6970266        0\n",
       "3    1999-11-23  28.688  29.446  27.002  27.002   6332082        0\n",
       "4    1999-11-24  27.083  28.309  27.002  27.717   5132147        0\n",
       "5    1999-11-26  27.594  28.012  27.509  27.807   1832635        0\n",
       "6    1999-11-29  27.676  28.650  27.380  28.432   4317826        0\n",
       "7    1999-11-30  28.350  28.986  27.634  28.480   4567146        0\n",
       "8    1999-12-01  28.480  29.324  28.273  28.986   3133746        0\n",
       "9    1999-12-02  29.532  30.375  29.155  29.786   3252997        0\n",
       "10   1999-12-03  30.336  30.842  29.909  30.039   3223074        0\n",
       "11   1999-12-06  30.547  31.348  30.505  30.883   2385046        0\n",
       "12   1999-12-07  30.883  31.052  29.909  30.547   2348161        0\n",
       "13   1999-12-08  30.547  30.795  30.249  30.505   2000481        0\n",
       "14   1999-12-09  30.547  31.012  30.547  30.924   2150096        0\n",
       "15   1999-12-10  30.842  31.012  30.209  30.209   1764043        0\n",
       "16   1999-12-13  30.713  31.221  29.958  30.713   4260349        0\n",
       "17   1999-12-14  30.635  30.635  28.391  29.027   2467856        0\n",
       "18   1999-12-15  28.350  28.561  27.676  28.142   3091820        0\n",
       "19   1999-12-16  28.350  31.896  28.350  31.896   2738063        0\n",
       "20   1999-12-17  31.308  31.808  30.674  31.012   3929255        0\n",
       "21   1999-12-20  31.221  31.687  31.134  31.646   1268225        0\n",
       "22   1999-12-21  31.517  31.517  31.052  31.470   2394232        0\n",
       "23   1999-12-22  31.470  32.104  31.261  32.104   2019439        0\n",
       "24   1999-12-23  32.065  33.754  32.025  33.582   2288310        0\n",
       "25   1999-12-27  33.712  35.906  33.455  35.648   2150692        0\n",
       "26   1999-12-28  36.620  41.514  36.412  41.514   3772374        0\n",
       "27   1999-12-29  42.528  53.369  42.487  48.602  11146026        0\n",
       "28   1999-12-30  51.302  54.003  50.122  53.497   7069075        0\n",
       "29   1999-12-31  53.666  53.966  51.473  52.188   2046399        0\n",
       "...         ...     ...     ...     ...     ...       ...      ...\n",
       "4491 2017-10-02  64.290  65.070  64.290  64.870   1693854        0\n",
       "4492 2017-10-03  65.060  65.780  65.060  65.150   1216981        0\n",
       "4493 2017-10-04  65.150  65.870  65.150  65.830    743116        0\n",
       "4494 2017-10-05  65.850  65.990  65.520  65.700   1974081        0\n",
       "4495 2017-10-06  65.680  66.380  65.660  66.360   1252893        0\n",
       "4496 2017-10-09  66.490  66.770  66.020  66.560   1542307        0\n",
       "4497 2017-10-10  66.680  66.860  66.220  66.600   1143075        0\n",
       "4498 2017-10-11  66.680  66.970  66.340  66.620   1794800        0\n",
       "4499 2017-10-12  66.650  67.600  66.540  67.540   1470426        0\n",
       "4500 2017-10-13  67.630  67.820  66.890  66.990    943164        0\n",
       "4501 2017-10-16  67.200  67.370  66.770  66.910   1473459        0\n",
       "4502 2017-10-17  66.680  66.680  65.990  66.120   1711833        0\n",
       "4503 2017-10-18  66.380  66.585  66.070  66.440   1150468        0\n",
       "4504 2017-10-19  66.440  66.975  66.060  66.880   1359119        0\n",
       "4505 2017-10-20  67.200  67.530  67.070  67.250   1506112        0\n",
       "4506 2017-10-23  67.450  67.680  66.930  67.020   1267570        0\n",
       "4507 2017-10-24  67.310  67.550  66.880  67.320   1966916        0\n",
       "4508 2017-10-25  67.900  68.520  67.030  67.390   1795014        0\n",
       "4509 2017-10-26  67.530  67.830  67.200  67.710   1418152        0\n",
       "4510 2017-10-27  67.800  68.010  67.410  67.970   1440996        0\n",
       "4511 2017-10-30  67.900  67.930  67.100  67.490    834858        0\n",
       "4512 2017-10-31  67.540  68.170  67.540  68.030   1614432        0\n",
       "4513 2017-11-01  68.200  68.440  67.840  68.020   1357998        0\n",
       "4514 2017-11-02  68.080  68.380  67.810  68.130   1856865        0\n",
       "4515 2017-11-03  68.090  68.670  68.010  68.370   1072288        0\n",
       "4516 2017-11-06  68.220  68.450  68.220  68.220    995731        0\n",
       "4517 2017-11-07  68.320  68.640  68.040  68.250    966466        0\n",
       "4518 2017-11-08  68.100  68.330  67.771  68.110    972616        0\n",
       "4519 2017-11-09  67.920  67.980  66.910  67.470   1673083        0\n",
       "4520 2017-11-10  67.350  67.580  66.700  66.810   1704549        0\n",
       "\n",
       "[4521 rows x 7 columns]"
      ]
     },
     "execution_count": 66,
     "metadata": {},
     "output_type": "execute_result"
    }
   ],
   "source": [
    "df1"
   ]
  },
  {
   "cell_type": "code",
   "execution_count": 67,
   "metadata": {},
   "outputs": [],
   "source": [
    "from pyspark.sql.functions import col\n",
    "from matplotlib import pyplot as plt\n",
    "import seaborn as sns\n",
    "from pyspark.ml.feature import VectorAssembler"
   ]
  },
  {
   "cell_type": "code",
   "execution_count": 68,
   "metadata": {},
   "outputs": [
    {
     "data": {
      "image/png": "[encoded data removed]",
      "text/plain": [
       "<Figure size 432x288 with 1 Axes>"
      ]
     },
     "metadata": {},
     "output_type": "display_data"
    }
   ],
   "source": [
    "plt.style.use('fivethirtyeight')\n",
    "_df = df1\n",
    "plt.plot(_df.Date,_df.Volume, color = '#CD5C5C')\n",
    "plt.xlabel('Date')\n",
    "_=plt.title('History transcation volume')"
   ]
  },
  {
   "cell_type": "code",
   "execution_count": 69,
   "metadata": {},
   "outputs": [],
   "source": [
    "from pyspark.ml.regression import LinearRegression"
   ]
  },
  {
   "cell_type": "code",
   "execution_count": 70,
   "metadata": {},
   "outputs": [],
   "source": [
    "from pyspark.sql import functions as F\n",
    "\n",
    "format = \"yyyy-MM-dd'T'HH:mm:ss.SSSZ\"\n",
    "df2 = df.withColumn('Timestamp2', F.unix_timestamp('Date', format).cast('timestamp'))"
   ]
  },
  {
   "cell_type": "code",
   "execution_count": 71,
   "metadata": {},
   "outputs": [
    {
     "data": {
      "text/plain": [
       "Row(Date=datetime.datetime(1999, 11, 18, 0, 0), Open=30.713, High=33.754, Low=27.002, Close=29.702, Volume=66277506, OpenInt=0, Timestamp2=datetime.datetime(1999, 11, 18, 0, 0))"
      ]
     },
     "execution_count": 71,
     "metadata": {},
     "output_type": "execute_result"
    }
   ],
   "source": [
    "df2.head()"
   ]
  },
  {
   "cell_type": "code",
   "execution_count": 72,
   "metadata": {},
   "outputs": [
    {
     "data": {
      "text/plain": [
       "DataFrame[dayofmonth(Timestamp2): int]"
      ]
     },
     "execution_count": 72,
     "metadata": {},
     "output_type": "execute_result"
    }
   ],
   "source": [
    "df2.select(F.dayofmonth('Timestamp2'))\n"
   ]
  },
  {
   "cell_type": "code",
   "execution_count": 73,
   "metadata": {},
   "outputs": [
    {
     "data": {
      "text/plain": [
       "Row(Date=datetime.datetime(1999, 11, 18, 0, 0), Open=30.713, High=33.754, Low=27.002, Close=29.702, Volume=66277506, OpenInt=0, Timestamp2=datetime.datetime(1999, 11, 18, 0, 0))"
      ]
     },
     "execution_count": 73,
     "metadata": {},
     "output_type": "execute_result"
    }
   ],
   "source": [
    "df2.head()"
   ]
  },
  {
   "cell_type": "code",
   "execution_count": 74,
   "metadata": {},
   "outputs": [],
   "source": [
    "from pyspark.sql.functions import to_timestamp\n",
    "from pyspark.sql.functions import to_date\n",
    "from pyspark.sql.functions import unix_timestamp"
   ]
  },
  {
   "cell_type": "code",
   "execution_count": 75,
   "metadata": {},
   "outputs": [],
   "source": [
    "ts = df.select(unix_timestamp('Date').alias('timestamp'))"
   ]
  },
  {
   "cell_type": "code",
   "execution_count": 76,
   "metadata": {},
   "outputs": [
    {
     "data": {
      "text/plain": [
       "DataFrame[timestamp: bigint]"
      ]
     },
     "execution_count": 76,
     "metadata": {},
     "output_type": "execute_result"
    }
   ],
   "source": [
    "ts"
   ]
  },
  {
   "cell_type": "code",
   "execution_count": 77,
   "metadata": {},
   "outputs": [],
   "source": [
    "from pyspark.sql.functions import split, explode, concat, concat_ws"
   ]
  },
  {
   "cell_type": "code",
   "execution_count": 78,
   "metadata": {},
   "outputs": [
    {
     "name": "stdout",
     "output_type": "stream",
     "text": [
      "+---------+\n",
      "|timestamp|\n",
      "+---------+\n",
      "|942879600|\n",
      "|942966000|\n",
      "|943225200|\n",
      "|943311600|\n",
      "|943398000|\n",
      "+---------+\n",
      "only showing top 5 rows\n",
      "\n"
     ]
    }
   ],
   "source": [
    "ts.show(5)"
   ]
  },
  {
   "cell_type": "code",
   "execution_count": 79,
   "metadata": {},
   "outputs": [
    {
     "name": "stdout",
     "output_type": "stream",
     "text": [
      "+-------------------+------+------+------+------+--------+-------+\n",
      "|               Date|  Open|  High|   Low| Close|  Volume|OpenInt|\n",
      "+-------------------+------+------+------+------+--------+-------+\n",
      "|1999-11-18 00:00:00|30.713|33.754|27.002|29.702|66277506|      0|\n",
      "|1999-11-19 00:00:00|28.986|29.027|26.872|27.257|16142920|      0|\n",
      "|1999-11-22 00:00:00|27.886|29.702|27.044|29.702| 6970266|      0|\n",
      "|1999-11-23 00:00:00|28.688|29.446|27.002|27.002| 6332082|      0|\n",
      "|1999-11-24 00:00:00|27.083|28.309|27.002|27.717| 5132147|      0|\n",
      "+-------------------+------+------+------+------+--------+-------+\n",
      "only showing top 5 rows\n",
      "\n"
     ]
    }
   ],
   "source": [
    "df.show(5)"
   ]
  },
  {
   "cell_type": "code",
   "execution_count": 80,
   "metadata": {},
   "outputs": [],
   "source": [
    "new_df = df.join(ts, how='inner')"
   ]
  },
  {
   "cell_type": "code",
   "execution_count": 81,
   "metadata": {},
   "outputs": [],
   "source": [
    "from pyspark.ml.feature import VectorAssembler\n",
    "t = VectorAssembler(inputCols=['timestamp'], outputCol = 'features')"
   ]
  },
  {
   "cell_type": "code",
   "execution_count": 82,
   "metadata": {
    "scrolled": true
   },
   "outputs": [
    {
     "data": {
      "text/html": [
       "<div>\n",
       "<style scoped>\n",
       "    .dataframe tbody tr th:only-of-type {\n",
       "        vertical-align: middle;\n",
       "    }\n",
       "\n",
       "    .dataframe tbody tr th {\n",
       "        vertical-align: top;\n",
       "    }\n",
       "\n",
       "    .dataframe thead th {\n",
       "        text-align: right;\n",
       "    }\n",
       "</style>\n",
       "<table border=\"1\" class=\"dataframe\">\n",
       "  <thead>\n",
       "    <tr style=\"text-align: right;\">\n",
       "      <th></th>\n",
       "      <th>timestamp</th>\n",
       "      <th>features</th>\n",
       "    </tr>\n",
       "  </thead>\n",
       "  <tbody>\n",
       "    <tr>\n",
       "      <th>0</th>\n",
       "      <td>942879600</td>\n",
       "      <td>[942879600.0]</td>\n",
       "    </tr>\n",
       "    <tr>\n",
       "      <th>1</th>\n",
       "      <td>942966000</td>\n",
       "      <td>[942966000.0]</td>\n",
       "    </tr>\n",
       "    <tr>\n",
       "      <th>2</th>\n",
       "      <td>943225200</td>\n",
       "      <td>[943225200.0]</td>\n",
       "    </tr>\n",
       "    <tr>\n",
       "      <th>3</th>\n",
       "      <td>943311600</td>\n",
       "      <td>[943311600.0]</td>\n",
       "    </tr>\n",
       "    <tr>\n",
       "      <th>4</th>\n",
       "      <td>943398000</td>\n",
       "      <td>[943398000.0]</td>\n",
       "    </tr>\n",
       "  </tbody>\n",
       "</table>\n",
       "</div>"
      ],
      "text/plain": [
       "   timestamp       features\n",
       "0  942879600  [942879600.0]\n",
       "1  942966000  [942966000.0]\n",
       "2  943225200  [943225200.0]\n",
       "3  943311600  [943311600.0]\n",
       "4  943398000  [943398000.0]"
      ]
     },
     "execution_count": 82,
     "metadata": {},
     "output_type": "execute_result"
    }
   ],
   "source": [
    "training = t.transform(ts)\n",
    "training.toPandas().head()"
   ]
  },
  {
   "cell_type": "code",
   "execution_count": 83,
   "metadata": {},
   "outputs": [
    {
     "data": {
      "text/plain": [
       "0    66277506\n",
       "1    16142920\n",
       "2     6970266\n",
       "3     6332082\n",
       "4     5132147\n",
       "Name: Volume, dtype: int32"
      ]
     },
     "execution_count": 83,
     "metadata": {},
     "output_type": "execute_result"
    }
   ],
   "source": [
    "df1['Volume'].head()"
   ]
  },
  {
   "cell_type": "code",
   "execution_count": 84,
   "metadata": {},
   "outputs": [
    {
     "data": {
      "text/plain": [
       "DataFrame[features: vector]"
      ]
     },
     "execution_count": 84,
     "metadata": {},
     "output_type": "execute_result"
    }
   ],
   "source": [
    "training.select('features')"
   ]
  },
  {
   "cell_type": "code",
   "execution_count": 85,
   "metadata": {},
   "outputs": [
    {
     "data": {
      "text/plain": [
       "pyspark.sql.dataframe.DataFrame"
      ]
     },
     "execution_count": 85,
     "metadata": {},
     "output_type": "execute_result"
    }
   ],
   "source": [
    "type(training)"
   ]
  },
  {
   "cell_type": "code",
   "execution_count": 86,
   "metadata": {},
   "outputs": [
    {
     "data": {
      "text/plain": [
       "pandas.core.frame.DataFrame"
      ]
     },
     "execution_count": 86,
     "metadata": {},
     "output_type": "execute_result"
    }
   ],
   "source": [
    "type(df1)"
   ]
  },
  {
   "cell_type": "code",
   "execution_count": 87,
   "metadata": {},
   "outputs": [],
   "source": [
    "from pyspark.sql.functions import lit\n",
    "\n",
    "df_ts = df.withColumn('timestamp', unix_timestamp('Date'))"
   ]
  },
  {
   "cell_type": "code",
   "execution_count": 88,
   "metadata": {},
   "outputs": [
    {
     "name": "stdout",
     "output_type": "stream",
     "text": [
      "+-------------------+------+------+------+------+--------+-------+\n",
      "|               Date|  Open|  High|   Low| Close|  Volume|OpenInt|\n",
      "+-------------------+------+------+------+------+--------+-------+\n",
      "|1999-11-18 00:00:00|30.713|33.754|27.002|29.702|66277506|      0|\n",
      "|1999-11-19 00:00:00|28.986|29.027|26.872|27.257|16142920|      0|\n",
      "|1999-11-22 00:00:00|27.886|29.702|27.044|29.702| 6970266|      0|\n",
      "|1999-11-23 00:00:00|28.688|29.446|27.002|27.002| 6332082|      0|\n",
      "|1999-11-24 00:00:00|27.083|28.309|27.002|27.717| 5132147|      0|\n",
      "+-------------------+------+------+------+------+--------+-------+\n",
      "only showing top 5 rows\n",
      "\n"
     ]
    }
   ],
   "source": [
    "df.show(5)"
   ]
  },
  {
   "cell_type": "code",
   "execution_count": 89,
   "metadata": {},
   "outputs": [
    {
     "name": "stdout",
     "output_type": "stream",
     "text": [
      "+-------------------+------+------+------+------+--------+-------+---------+\n",
      "|               Date|  Open|  High|   Low| Close|  Volume|OpenInt|timestamp|\n",
      "+-------------------+------+------+------+------+--------+-------+---------+\n",
      "|1999-11-18 00:00:00|30.713|33.754|27.002|29.702|66277506|      0|942879600|\n",
      "|1999-11-19 00:00:00|28.986|29.027|26.872|27.257|16142920|      0|942966000|\n",
      "|1999-11-22 00:00:00|27.886|29.702|27.044|29.702| 6970266|      0|943225200|\n",
      "|1999-11-23 00:00:00|28.688|29.446|27.002|27.002| 6332082|      0|943311600|\n",
      "|1999-11-24 00:00:00|27.083|28.309|27.002|27.717| 5132147|      0|943398000|\n",
      "+-------------------+------+------+------+------+--------+-------+---------+\n",
      "only showing top 5 rows\n",
      "\n"
     ]
    }
   ],
   "source": [
    "df_ts.show(5)"
   ]
  },
  {
   "cell_type": "code",
   "execution_count": 90,
   "metadata": {},
   "outputs": [],
   "source": [
    "df_ts = df_ts.drop(\"OpenInt\").drop(\"High\").drop(\"Low\").drop(\"Open\").drop('Date').drop('Close')\n"
   ]
  },
  {
   "cell_type": "code",
   "execution_count": 91,
   "metadata": {},
   "outputs": [
    {
     "data": {
      "text/plain": [
       "DataFrame[Volume: int, timestamp: bigint]"
      ]
     },
     "execution_count": 91,
     "metadata": {},
     "output_type": "execute_result"
    }
   ],
   "source": [
    "train_df, test_df = df_ts.randomSplit(weights=[0.7, 0.3], seed=666)\n",
    "train_df.cache()\n",
    "test_df.cache()"
   ]
  },
  {
   "cell_type": "code",
   "execution_count": 108,
   "metadata": {},
   "outputs": [],
   "source": [
    "from pyspark.ml.feature import VectorAssembler\n",
    "from pyspark.ml.regression import LinearRegression\n",
    "t = VectorAssembler(inputCols=['timestamp'], outputCol = 'va_features')\n",
    "vIndexer = VectorIndexer(inputCol=\"va_features\", outputCol=\"features\", maxCategories=24)\n",
    "dt = LinearRegression(featuresCol=\"features\", labelCol=\"Volume\")\n",
    "# training = t.transform(train_df).withColumn('label',train_df.Volume)\n",
    "# training.toPandas().head()\n",
    "dt_pipeline = Pipeline(stages=[t, vIndexer, dt])\n",
    "dt_pipeline.getStages()\n",
    "# lr = LinearRegression(maxIter=10)\n",
    "# model = lr.fit(training)\n",
    "model = dt_pipeline.fit(train_df)"
   ]
  },
  {
   "cell_type": "code",
   "execution_count": null,
   "metadata": {},
   "outputs": [],
   "source": [
    "vIndexer = VectorIndexer(inputCol=\"va_features\", outputCol=\"features\", maxCategories=24)\n",
    "dt = DecisionTreeRegressor(featuresCol=\"features\", labelCol=\"Close\", seed=1024)\n",
    "dt_pipeline = Pipeline(stages=[vector, vIndexer, dt])\n",
    "dt_pipeline.getStages()"
   ]
  },
  {
   "cell_type": "code",
   "execution_count": 109,
   "metadata": {
    "scrolled": true
   },
   "outputs": [
    {
     "name": "stdout",
     "output_type": "stream",
     "text": [
      "+-------+------------------+\n",
      "| Volume|        prediction|\n",
      "+-------+------------------+\n",
      "| 734717|3544957.2471379396|\n",
      "| 868050| 3686843.020286995|\n",
      "| 885620| 3549351.736678252|\n",
      "| 892531| 3602242.557217016|\n",
      "| 966466|3494891.4555893764|\n",
      "|1001279| 4510803.269676673|\n",
      "|1013667| 3535226.591727247|\n",
      "|1021118| 3554851.388022602|\n",
      "|1045847| 3510435.654454441|\n",
      "|1061695|3638346.6892885435|\n",
      "|1064911|3585141.9766397574|\n",
      "|1072288|3495519.2398094214|\n",
      "|1078275|3589372.9807061004|\n",
      "|1084793| 3503686.974088961|\n",
      "|1095045| 4302542.394095811|\n",
      "|1100047|3581375.2713194895|\n",
      "|1102457| 4513471.352611863|\n",
      "|1108055|3587182.2753549027|\n",
      "|1122714| 3585612.814804791|\n",
      "|1125771|3663608.4647263833|\n",
      "|1130454| 4511901.892061751|\n",
      "|1134547|3716813.1773751695|\n",
      "|1139198| 4060838.929959652|\n",
      "|1142375|3676955.4188212915|\n",
      "|1142599| 4498097.178639728|\n",
      "|1144970| 3591099.387311223|\n",
      "|1150468| 3498036.916108559|\n",
      "|1159043| 4301914.609875767|\n",
      "|1159819|3893220.5432077236|\n",
      "|1185191| 3502117.513538849|\n",
      "|1188212|3626732.6812177175|\n",
      "|1190302| 4500137.477354873|\n",
      "|1196614|3515614.8742698096|\n",
      "|1199904|3538365.5128274704|\n",
      "|1203208| 3534598.807507202|\n",
      "|1209067| 3505884.218859117|\n",
      "|1217282|3570232.1014136965|\n",
      "|1222291|3575882.1593940984|\n",
      "|1222598|  4514413.02894193|\n",
      "|1225263| 4208531.707144121|\n",
      "|1233260| 4311174.427121425|\n",
      "|1240516|3502588.3517038827|\n",
      "|1241298|3569290.4250836293|\n",
      "|1243293|  3590628.54914619|\n",
      "|1248849|3528484.4507807256|\n",
      "|1252893| 3499920.268768693|\n",
      "|1259191| 4508606.024906517|\n",
      "|1263271| 3501332.783263793|\n",
      "|1266545|3720736.8287504488|\n",
      "|1268225| 4520063.086922333|\n",
      "+-------+------------------+\n",
      "only showing top 50 rows\n",
      "\n"
     ]
    }
   ],
   "source": [
    "prediction = model.transform(test_df)\n",
    "prediction.columns\n",
    "prediction.select(\"Volume\", \"prediction\").show(50)"
   ]
  },
  {
   "cell_type": "code",
   "execution_count": 111,
   "metadata": {},
   "outputs": [
    {
     "data": {
      "text/plain": [
       "2497043.9573752973"
      ]
     },
     "execution_count": 111,
     "metadata": {},
     "output_type": "execute_result"
    }
   ],
   "source": [
    "from pyspark.ml.evaluation import RegressionEvaluator\n",
    "evaluator = RegressionEvaluator(labelCol=\"Volume\", predictionCol=\"prediction\", metricName=\"rmse\")\n",
    "rmse = evaluator.evaluate(prediction)\n",
    "rmse "
   ]
  },
  {
   "cell_type": "code",
   "execution_count": 63,
   "metadata": {},
   "outputs": [],
   "source": [
    "from pyspark.sql.functions import to_timestamp\n",
    "from pyspark.sql.functions import to_date\n",
    "from pyspark.sql.functions import unix_timestamp"
   ]
  },
  {
   "cell_type": "code",
   "execution_count": 64,
   "metadata": {},
   "outputs": [],
   "source": [
    "from pyspark.sql import SparkSession\n",
    "spark = SparkSession.builder.appName(\"Python Spark Regression\").config(\"spark.some.config.option\", \"some-value\").getOrCreate()\n",
    "# 创建 DataFrame\n",
    "# file = r'stock_data/Stocks/a.us.csv'\n",
    "# hour_df = spark.read.format('csv').option(\"header\", \"true\").load(file)\n",
    "# hour_df.count()    # 17379\n",
    "# hour_df.printSchema()\n",
    "df = spark.read.option('header','true')\\\n",
    ".option('inferSchema','true').csv(\"stock_data/Stocks/a.us.csv\")"
   ]
  },
  {
   "cell_type": "code",
   "execution_count": 65,
   "metadata": {},
   "outputs": [
    {
     "name": "stdout",
     "output_type": "stream",
     "text": [
      "+-------------------+------+------+------+------+--------+-------+\n",
      "|               Date|  Open|  High|   Low| Close|  Volume|OpenInt|\n",
      "+-------------------+------+------+------+------+--------+-------+\n",
      "|1999-11-18 00:00:00|30.713|33.754|27.002|29.702|66277506|      0|\n",
      "|1999-11-19 00:00:00|28.986|29.027|26.872|27.257|16142920|      0|\n",
      "|1999-11-22 00:00:00|27.886|29.702|27.044|29.702| 6970266|      0|\n",
      "|1999-11-23 00:00:00|28.688|29.446|27.002|27.002| 6332082|      0|\n",
      "|1999-11-24 00:00:00|27.083|28.309|27.002|27.717| 5132147|      0|\n",
      "+-------------------+------+------+------+------+--------+-------+\n",
      "only showing top 5 rows\n",
      "\n"
     ]
    }
   ],
   "source": [
    "df.show(5)"
   ]
  },
  {
   "cell_type": "code",
   "execution_count": 66,
   "metadata": {},
   "outputs": [
    {
     "name": "stdout",
     "output_type": "stream",
     "text": [
      "root\n",
      " |-- Date: timestamp (nullable = true)\n",
      " |-- Close: double (nullable = true)\n",
      " |-- Volume: integer (nullable = true)\n",
      "\n"
     ]
    }
   ],
   "source": [
    "# 删除不需要的字段\n",
    "hour_df = df.drop(\"OpenInt\").drop(\"High\").drop(\"Low\").drop(\"Open\")\n",
    " \n",
    "#将字符串类型转换成 double 类型, col 读取字段数据， cast(\"double\") 转换成double\n",
    "from pyspark.sql.functions import col\n",
    "# hour_df = hour_df.select([col(column).cast(\"double\").alias(column) for column in hour_df.columns])\n",
    "hour_df.printSchema()"
   ]
  },
  {
   "cell_type": "code",
   "execution_count": 67,
   "metadata": {},
   "outputs": [
    {
     "name": "stdout",
     "output_type": "stream",
     "text": [
      "+-------------------+------+--------+\n",
      "|               Date| Close|  Volume|\n",
      "+-------------------+------+--------+\n",
      "|1999-11-18 00:00:00|29.702|66277506|\n",
      "|1999-11-19 00:00:00|27.257|16142920|\n",
      "|1999-11-22 00:00:00|29.702| 6970266|\n",
      "|1999-11-23 00:00:00|27.002| 6332082|\n",
      "|1999-11-24 00:00:00|27.717| 5132147|\n",
      "+-------------------+------+--------+\n",
      "only showing top 5 rows\n",
      "\n"
     ]
    }
   ],
   "source": [
    "hour_df.show(5)"
   ]
  },
  {
   "cell_type": "code",
   "execution_count": 68,
   "metadata": {},
   "outputs": [],
   "source": [
    "from pyspark.sql.functions import lit\n",
    "\n",
    "df_ts = hour_df.withColumn('timestamp', unix_timestamp('Date'))"
   ]
  },
  {
   "cell_type": "code",
   "execution_count": 69,
   "metadata": {},
   "outputs": [
    {
     "name": "stdout",
     "output_type": "stream",
     "text": [
      "+------+--------+---------+\n",
      "| Close|  Volume|timestamp|\n",
      "+------+--------+---------+\n",
      "|29.702|66277506|942879600|\n",
      "|27.257|16142920|942966000|\n",
      "|29.702| 6970266|943225200|\n",
      "|27.002| 6332082|943311600|\n",
      "|27.717| 5132147|943398000|\n",
      "+------+--------+---------+\n",
      "only showing top 5 rows\n",
      "\n"
     ]
    }
   ],
   "source": [
    "df_ts = df_ts.drop(\"Date\")\n",
    "df_ts.show(5)"
   ]
  },
  {
   "cell_type": "code",
   "execution_count": 70,
   "metadata": {},
   "outputs": [
    {
     "name": "stdout",
     "output_type": "stream",
     "text": [
      "root\n",
      " |-- Close: double (nullable = true)\n",
      " |-- Volume: double (nullable = true)\n",
      " |-- timestamp: double (nullable = true)\n",
      "\n"
     ]
    }
   ],
   "source": [
    "df_ts = df_ts.select([col(column).cast(\"double\").alias(column) for column in df_ts.columns])\n",
    "df_ts.printSchema()"
   ]
  },
  {
   "cell_type": "code",
   "execution_count": 71,
   "metadata": {},
   "outputs": [
    {
     "name": "stdout",
     "output_type": "stream",
     "text": [
      "+------+-----------+----------+\n",
      "| Close|     Volume| timestamp|\n",
      "+------+-----------+----------+\n",
      "|29.702|6.6277506E7|9.428796E8|\n",
      "|27.257| 1.614292E7| 9.42966E8|\n",
      "|29.702|  6970266.0|9.432252E8|\n",
      "|27.002|  6332082.0|9.433116E8|\n",
      "|27.717|  5132147.0| 9.43398E8|\n",
      "+------+-----------+----------+\n",
      "only showing top 5 rows\n",
      "\n"
     ]
    }
   ],
   "source": [
    "df_ts.show(5)"
   ]
  },
  {
   "cell_type": "code",
   "execution_count": 72,
   "metadata": {},
   "outputs": [
    {
     "data": {
      "text/plain": [
       "DataFrame[Close: double, Volume: double, timestamp: double]"
      ]
     },
     "execution_count": 72,
     "metadata": {},
     "output_type": "execute_result"
    }
   ],
   "source": [
    "train_df, test_df = df_ts.randomSplit(weights=[0.7, 0.3], seed=666)\n",
    "train_df.cache()\n",
    "test_df.cache()"
   ]
  },
  {
   "cell_type": "code",
   "execution_count": 104,
   "metadata": {},
   "outputs": [],
   "source": [
    "from pyspark.ml import Pipeline\n",
    "from pyspark.ml.feature import VectorIndexer, VectorAssembler, StringIndexer\n",
    "from pyspark.ml.regression import DecisionTreeRegressor\n",
    "featuresCols = df_ts.columns[1:3]\n",
    "featuresCols"
   ]
  },
  {
   "cell_type": "code",
   "execution_count": 74,
   "metadata": {
    "scrolled": false
   },
   "outputs": [
    {
     "data": {
      "text/plain": [
       "[VectorAssembler_4ee9cbf26871,\n",
       " VectorIndexer_7dd4c541bd1d,\n",
       " DecisionTreeRegressor_df3b8a977d41]"
      ]
     },
     "execution_count": 74,
     "metadata": {},
     "output_type": "execute_result"
    }
   ],
   "source": [
    "featuresCols = df_ts.columns[1:3]\n",
    "vector = VectorAssembler(inputCols=featuresCols, outputCol=\"va_features\")\n",
    "# vector = VectorAssembler(inputCols=['timestamp'], outputCol = 'va_features')\n",
    "vIndexer = VectorIndexer(inputCol=\"va_features\", outputCol=\"features\", maxCategories=24)\n",
    "dt = DecisionTreeRegressor(featuresCol=\"features\", labelCol=\"Close\", seed=1024)\n",
    "dt_pipeline = Pipeline(stages=[vector, vIndexer, dt])\n",
    "dt_pipeline.getStages()\n",
    " \n"
   ]
  },
  {
   "cell_type": "code",
   "execution_count": 77,
   "metadata": {
    "scrolled": true
   },
   "outputs": [
    {
     "name": "stdout",
     "output_type": "stream",
     "text": [
      "+------+------------------+\n",
      "| Close|        prediction|\n",
      "+------+------------------+\n",
      "|7.7289|15.843691824817517|\n",
      "|8.3034|15.843691824817517|\n",
      "|8.3034|15.843691824817517|\n",
      "|8.3907|15.843691824817517|\n",
      "|8.6405|15.843691824817517|\n",
      "|8.8158|15.843691824817517|\n",
      "|8.8969|15.843691824817517|\n",
      "|8.9844|17.585167774936068|\n",
      "|9.0793|15.843691824817517|\n",
      "|9.1127|15.843691824817517|\n",
      "|9.1328|17.585167774936068|\n",
      "|  9.14|15.843691824817517|\n",
      "|9.2693|15.843691824817517|\n",
      "|9.3144|15.843691824817517|\n",
      "|9.3213|17.585167774936068|\n",
      "|9.4299|15.843691824817517|\n",
      "|9.4432|15.843691824817517|\n",
      "|9.4848|15.843691824817517|\n",
      "|9.4987|15.843691824817517|\n",
      "|  9.52|15.843691824817517|\n",
      "| 9.546|15.843691824817517|\n",
      "| 9.553|15.843691824817517|\n",
      "| 9.571|15.843691824817517|\n",
      "| 9.586|15.843691824817517|\n",
      "| 9.586|15.843691824817517|\n",
      "| 9.593|17.585167774936068|\n",
      "| 9.638|17.585167774936068|\n",
      "| 9.694|15.843691824817517|\n",
      "| 9.694|15.843691824817517|\n",
      "| 9.896|15.843691824817517|\n",
      "| 9.896|17.585167774936068|\n",
      "| 9.944|15.843691824817517|\n",
      "| 9.951|17.585167774936068|\n",
      "| 9.957|15.843691824817517|\n",
      "| 9.991|15.843691824817517|\n",
      "|10.045|17.585167774936068|\n",
      "|10.119|17.585167774936068|\n",
      "|10.144|15.843691824817517|\n",
      "|10.171|15.843691824817517|\n",
      "|10.308|15.843691824817517|\n",
      "|10.335|15.843691824817517|\n",
      "|10.416|15.843691824817517|\n",
      "| 10.43|17.585167774936068|\n",
      "|10.471|15.843691824817517|\n",
      "|10.505|17.585167774936068|\n",
      "|10.518|17.585167774936068|\n",
      "|10.545|15.843691824817517|\n",
      "|10.585|15.843691824817517|\n",
      "|10.725|15.843691824817517|\n",
      "|10.773|15.843691824817517|\n",
      "+------+------------------+\n",
      "only showing top 50 rows\n",
      "\n"
     ]
    }
   ],
   "source": [
    "dtModel = dt_pipeline.fit(train_df)\n",
    "prediction = dtModel.transform(test_df)\n",
    "prediction.columns\n",
    "prediction.select(\"Close\", \"prediction\").show(50)"
   ]
  },
  {
   "cell_type": "code",
   "execution_count": 76,
   "metadata": {},
   "outputs": [
    {
     "data": {
      "text/plain": [
       "4.720916921972006"
      ]
     },
     "execution_count": 76,
     "metadata": {},
     "output_type": "execute_result"
    }
   ],
   "source": [
    "from pyspark.ml.evaluation import RegressionEvaluator\n",
    "evaluator = RegressionEvaluator(labelCol=\"Close\", predictionCol=\"prediction\", metricName=\"rmse\")\n",
    "rmse = evaluator.evaluate(prediction)\n",
    "rmse "
   ]
  }
 ],
 "metadata": {
  "kernelspec": {
   "display_name": "Python 3",
   "language": "python",
   "name": "python3"
  },
  "language_info": {
   "codemirror_mode": {
    "name": "ipython",
    "version": 3
   },
   "file_extension": ".py",
   "mimetype": "text/x-python",
   "name": "python",
   "nbconvert_exporter": "python",
   "pygments_lexer": "ipython3",
   "version": "3.7.0"
  }
 },
 "nbformat": 4,
 "nbformat_minor": 2
}
